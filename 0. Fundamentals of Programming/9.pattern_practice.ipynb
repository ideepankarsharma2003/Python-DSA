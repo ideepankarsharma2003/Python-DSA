{
 "cells": [
  {
   "cell_type": "code",
   "execution_count": 7,
   "metadata": {},
   "outputs": [
    {
     "data": {
      "text/plain": [
       "['1', '2 3', '4 5 6', '7 8 9 10', '11 12 13 14 15']"
      ]
     },
     "execution_count": 7,
     "metadata": {},
     "output_type": "execute_result"
    }
   ],
   "source": [
    "def generate_floyds_triangle(n):\n",
    "    \"\"\"\n",
    "    Function to return the first n rows of Floyd's Triangle as a list of strings.\n",
    "    \n",
    "    Parameters:\n",
    "    n (int): The number of rows in the triangle.\n",
    "    \n",
    "    Returns:\n",
    "    list: A list of strings where each string represents a row of Floyd's Triangle.\n",
    "    \"\"\"\n",
    "    # Your code here\n",
    "    \n",
    "    result= []\n",
    "    j= 1\n",
    "    for i in range(1, n+1):\n",
    "        result.append(' '.join(\n",
    "            [str(i) for i in range(j, j+i)]\n",
    "            ))\n",
    "        j+=i\n",
    "            \n",
    "    # print(result)\n",
    "            \n",
    "    return result\n",
    "\n",
    "\n",
    "\n",
    "generate_floyds_triangle(5)"
   ]
  },
  {
   "cell_type": "code",
   "execution_count": 22,
   "metadata": {},
   "outputs": [
    {
     "name": "stdout",
     "output_type": "stream",
     "text": [
      "  *  \n",
      " *** \n",
      "*****\n",
      " *** \n",
      "  *  \n"
     ]
    }
   ],
   "source": [
    "def generate_diamond(n):\n",
    "    \"\"\"\n",
    "    Function to return a diamond pattern of '*' of side n as a list of strings.\n",
    "    \n",
    "    Parameters:\n",
    "    n (int): The number of rows for the upper part of the diamond.\n",
    "    \n",
    "    Returns:\n",
    "    list: A list of strings where each string represents a row of the diamond.\n",
    "    \"\"\"\n",
    "    # Your code here\n",
    "    # (the widest row will have 2n - 1 stars)\n",
    "    result= []\n",
    "    upper= []\n",
    "    n_cols= (2*n -1)\n",
    "    for i in range(1, (n)):\n",
    "        n_stars= 2*i-1\n",
    "        n_spaces= (n_cols-n_stars)//2\n",
    "\n",
    "        upper.append(\n",
    "            f\"{' '*n_spaces}{'*'*n_stars}{' '*n_spaces}\"\n",
    "        )\n",
    "\n",
    "    mid= ['*'*n_cols]\n",
    "    result= upper+mid+upper[::-1]\n",
    "\n",
    "    return result\n",
    "\n",
    "\n",
    "for i in generate_diamond(3):\n",
    "    print(i)\n"
   ]
  },
  {
   "cell_type": "code",
   "execution_count": 26,
   "metadata": {},
   "outputs": [
    {
     "name": "stdout",
     "output_type": "stream",
     "text": [
      "       *\n",
      "      **\n",
      "     ***\n",
      "    ****\n",
      "   *****\n",
      "  ******\n",
      " *******\n",
      "********\n"
     ]
    }
   ],
   "source": [
    "def generate_right_angled_triangle(n):\n",
    "    \"\"\"\n",
    "    Function to return a right-angled triangle of '*' of side n as a list of strings.\n",
    "    \n",
    "    Parameters:\n",
    "    n (int): The height of the triangle.\n",
    "    \n",
    "    Returns:\n",
    "    list: A list of strings where each string represents a row of the triangle.\n",
    "    \"\"\"\n",
    "    # Your code here\n",
    "    result= []\n",
    "    \n",
    "    for i in range(1, n+1):\n",
    "        result.append(\n",
    "            \" \"* (n-i) + '*'*i\n",
    "        )\n",
    "\n",
    "    return result\n",
    "\n",
    "\n",
    "\n",
    "for i in generate_right_angled_triangle(8):\n",
    "    print(i)"
   ]
  },
  {
   "cell_type": "code",
   "execution_count": 2,
   "metadata": {},
   "outputs": [
    {
     "name": "stdout",
     "output_type": "stream",
     "text": [
      "*********\n",
      " ******* \n",
      "  *****  \n",
      "   ***   \n",
      "    *    \n",
      "   ***   \n",
      "  *****  \n",
      " ******* \n",
      "*********\n"
     ]
    }
   ],
   "source": [
    "def generate_sandglass(n):\n",
    "    \"\"\"\n",
    "    Function to return a sandglass pattern of '*' of side n as a list of strings.\n",
    "    \n",
    "    Parameters:\n",
    "    n (int): The height of the sandglass.\n",
    "    \n",
    "    Returns:\n",
    "    list: A list of strings where each string represents a row of the sandglass pattern.\n",
    "    \"\"\"\n",
    "    # Your code here\n",
    "    n_stars= 2*n-1\n",
    "    cols= n_stars\n",
    "    result= []\n",
    "    \n",
    "    while n_stars>1:\n",
    "        spaces= (cols-n_stars)//2\n",
    "        result.append(\n",
    "            \" \"*spaces+ \"*\"*n_stars+ \" \"*spaces\n",
    "        )\n",
    "        n_stars-=2\n",
    "        \n",
    "    mid= [\n",
    "        \" \"*((cols-1)//2) + \"*\"+ \" \"* ((cols-1)//2)\n",
    "    ]\n",
    "    \n",
    "    return result+mid+ result[::-1]\n",
    "    \n",
    "\n",
    "\n",
    "\n",
    "for i in generate_sandglass(5):\n",
    "    print(i)"
   ]
  },
  {
   "cell_type": "code",
   "execution_count": 15,
   "metadata": {},
   "outputs": [
    {
     "name": "stdout",
     "output_type": "stream",
     "text": [
      "*\n",
      "**\n",
      "* *\n",
      "*  *\n",
      "*   *\n",
      "*    *\n",
      "*     *\n",
      "*      *\n",
      "*       *\n",
      "**********\n"
     ]
    }
   ],
   "source": [
    "def generate_hollow_right_angled_triangle(n):\n",
    "    \"\"\"\n",
    "    Function to return a hollow right-angled triangle of '*' of side n as a list of strings.\n",
    "    \n",
    "    Parameters:\n",
    "    n (int): The height of the triangle.\n",
    "    \n",
    "    Returns:\n",
    "    list: A list of strings where each string represents a row of the triangle.\n",
    "    \"\"\"\n",
    "    # Your code here\n",
    "    \n",
    "    result= []\n",
    "    \n",
    "    for i in range(1, n):\n",
    "        \n",
    "        # spaces= \" \"* (n-i)\n",
    "        stars= [\" \"]*i\n",
    "        stars[0]= \"*\"\n",
    "        stars[-1]= \"*\"\n",
    "        \n",
    "        stars= \"\".join(stars)\n",
    "        \n",
    "        result.append(\n",
    "                # spaces+\n",
    "                stars\n",
    "            )    \n",
    "    result.append(\n",
    "        \"*\"*n\n",
    "    )\n",
    "    \n",
    "    return result\n",
    "\n",
    "\n",
    "\n",
    "for i in generate_hollow_right_angled_triangle(10):\n",
    "    print(i)"
   ]
  },
  {
   "cell_type": "code",
   "execution_count": 16,
   "metadata": {},
   "outputs": [
    {
     "name": "stdout",
     "output_type": "stream",
     "text": [
      "**********\n",
      "*       *\n",
      "*      *\n",
      "*     *\n",
      "*    *\n",
      "*   *\n",
      "*  *\n",
      "* *\n",
      "**\n",
      "*\n"
     ]
    }
   ],
   "source": [
    "def generate_hollow_inverted_right_angled_triangle(n):\n",
    "    \"\"\"\n",
    "    Function to return a hollow inverted right-angled triangle of '*' of side n as a list of strings.\n",
    "    \n",
    "    Parameters:\n",
    "    n (int): The height of the triangle.\n",
    "    \n",
    "    Returns:\n",
    "    list: A list of strings where each string represents a row of the triangle.\n",
    "    \"\"\"\n",
    "    # Your code here\n",
    "    result= []\n",
    "    \n",
    "    for i in range(1, n):\n",
    "        \n",
    "        # spaces= \" \"* (n-i)\n",
    "        stars= [\" \"]*i\n",
    "        stars[0]= \"*\"\n",
    "        stars[-1]= \"*\"\n",
    "        \n",
    "        stars= \"\".join(stars)\n",
    "        \n",
    "        result.append(\n",
    "                # spaces+\n",
    "                stars\n",
    "            )    \n",
    "    result.append(\n",
    "        \"*\"*n\n",
    "    )\n",
    "    \n",
    "    return result[::-1]\n",
    "\n",
    "\n",
    "\n",
    "for i in generate_hollow_inverted_right_angled_triangle(10):\n",
    "    print(i)\n"
   ]
  },
  {
   "cell_type": "code",
   "execution_count": 37,
   "metadata": {},
   "outputs": [
    {
     "name": "stdout",
     "output_type": "stream",
     "text": [
      "    1    \n",
      "   1 2   \n",
      "  1 2 3  \n",
      " 1 2 3 4 \n",
      "1 2 3 4 5\n"
     ]
    }
   ],
   "source": [
    "def generate_number_pyramid(n):\n",
    "    \"\"\"\n",
    "    Function to return a pyramid pattern of numbers of height n as a list of strings.\n",
    "    \n",
    "    Parameters:\n",
    "    n (int): The height of the pyramid.\n",
    "    \n",
    "    Returns:\n",
    "    list: A list of strings where each string represents a row of the pyramid pattern.\n",
    "    \"\"\"\n",
    "    # Your code here\n",
    "    result= []\n",
    "    for i in range(1,n+1):\n",
    "        n_chars_in_pattern= 2*i -1\n",
    "        n_spaces= (2*n-1)- n_chars_in_pattern\n",
    "        spaces= \" \"*(n_spaces//2)\n",
    "        result.append(\n",
    "            spaces+\" \".join([str(j )for j in range(1, i+1)])+spaces\n",
    "        )\n",
    "    return result\n",
    "\n",
    "\n",
    "\n",
    "for i in generate_number_pyramid(5):\n",
    "    print(i)"
   ]
  },
  {
   "cell_type": "code",
   "execution_count": 34,
   "metadata": {},
   "outputs": [
    {
     "data": {
      "text/plain": [
       "(9, '1 2 3 4 5')"
      ]
     },
     "execution_count": 34,
     "metadata": {},
     "output_type": "execute_result"
    }
   ],
   "source": [
    "j= 6\n",
    "len(\" \".join([str(j )for j in range(1, j)])), \" \".join([str(j )for j in range(1, j)])"
   ]
  },
  {
   "cell_type": "code",
   "execution_count": null,
   "metadata": {},
   "outputs": [],
   "source": []
  }
 ],
 "metadata": {
  "kernelspec": {
   "display_name": "venv",
   "language": "python",
   "name": "python3"
  },
  "language_info": {
   "codemirror_mode": {
    "name": "ipython",
    "version": 3
   },
   "file_extension": ".py",
   "mimetype": "text/x-python",
   "name": "python",
   "nbconvert_exporter": "python",
   "pygments_lexer": "ipython3",
   "version": "3.12.3"
  }
 },
 "nbformat": 4,
 "nbformat_minor": 2
}
